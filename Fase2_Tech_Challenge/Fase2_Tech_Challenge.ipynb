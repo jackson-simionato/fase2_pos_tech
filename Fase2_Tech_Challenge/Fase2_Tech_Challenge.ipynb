{
 "cells": [
  {
   "cell_type": "code",
   "execution_count": 1,
   "metadata": {},
   "outputs": [],
   "source": [
    "import pandas as pd\n",
    "import matplotlib.pyplot as plt\n",
    "import seaborn as sns\n",
    "import numpy as np"
   ]
  },
  {
   "cell_type": "markdown",
   "metadata": {},
   "source": [
    "# Objetivo"
   ]
  },
  {
   "cell_type": "markdown",
   "metadata": {},
   "source": [
    "Você foi escalado para um time de investimentos e precisará realizar um modelo preditivo com dados da IBOVESPA para criar uma série temporal e prever diariamente o fechamento da base.\n",
    "\n",
    "- Apresentar modelo com storytelling;\n",
    "\n",
    "- Justificar a técnica utilizada;\n",
    "\n",
    "- Atingir acurácia mínimia de 70%.\n",
    "\n",
    "**Dados**: https://br.investing.com/indices/bovespa-historical-data"
   ]
  },
  {
   "cell_type": "markdown",
   "metadata": {},
   "source": [
    "# Leitura e processamento dos dados"
   ]
  },
  {
   "cell_type": "code",
   "execution_count": 2,
   "metadata": {},
   "outputs": [
    {
     "data": {
      "text/html": [
       "<div>\n",
       "<style scoped>\n",
       "    .dataframe tbody tr th:only-of-type {\n",
       "        vertical-align: middle;\n",
       "    }\n",
       "\n",
       "    .dataframe tbody tr th {\n",
       "        vertical-align: top;\n",
       "    }\n",
       "\n",
       "    .dataframe thead th {\n",
       "        text-align: right;\n",
       "    }\n",
       "</style>\n",
       "<table border=\"1\" class=\"dataframe\">\n",
       "  <thead>\n",
       "    <tr style=\"text-align: right;\">\n",
       "      <th></th>\n",
       "      <th>Data</th>\n",
       "      <th>Último</th>\n",
       "      <th>Abertura</th>\n",
       "      <th>Máxima</th>\n",
       "      <th>Mínima</th>\n",
       "      <th>Vol.</th>\n",
       "      <th>Var%</th>\n",
       "    </tr>\n",
       "  </thead>\n",
       "  <tbody>\n",
       "    <tr>\n",
       "      <th>0</th>\n",
       "      <td>11.03.2021</td>\n",
       "      <td>114.984</td>\n",
       "      <td>112.782</td>\n",
       "      <td>115.127</td>\n",
       "      <td>112.776</td>\n",
       "      <td>12,09M</td>\n",
       "      <td>1,96%</td>\n",
       "    </tr>\n",
       "    <tr>\n",
       "      <th>1</th>\n",
       "      <td>10.03.2021</td>\n",
       "      <td>112.776</td>\n",
       "      <td>111.331</td>\n",
       "      <td>112.928</td>\n",
       "      <td>109.999</td>\n",
       "      <td>12,51M</td>\n",
       "      <td>1,30%</td>\n",
       "    </tr>\n",
       "    <tr>\n",
       "      <th>2</th>\n",
       "      <td>09.03.2021</td>\n",
       "      <td>111.331</td>\n",
       "      <td>110.611</td>\n",
       "      <td>112.525</td>\n",
       "      <td>109.343</td>\n",
       "      <td>12,14M</td>\n",
       "      <td>0,65%</td>\n",
       "    </tr>\n",
       "    <tr>\n",
       "      <th>3</th>\n",
       "      <td>08.03.2021</td>\n",
       "      <td>110.612</td>\n",
       "      <td>115.202</td>\n",
       "      <td>115.202</td>\n",
       "      <td>110.268</td>\n",
       "      <td>13,70M</td>\n",
       "      <td>-3,98%</td>\n",
       "    </tr>\n",
       "    <tr>\n",
       "      <th>4</th>\n",
       "      <td>05.03.2021</td>\n",
       "      <td>115.202</td>\n",
       "      <td>112.690</td>\n",
       "      <td>115.504</td>\n",
       "      <td>112.504</td>\n",
       "      <td>13,25M</td>\n",
       "      <td>2,23%</td>\n",
       "    </tr>\n",
       "    <tr>\n",
       "      <th>...</th>\n",
       "      <td>...</td>\n",
       "      <td>...</td>\n",
       "      <td>...</td>\n",
       "      <td>...</td>\n",
       "      <td>...</td>\n",
       "      <td>...</td>\n",
       "      <td>...</td>\n",
       "    </tr>\n",
       "    <tr>\n",
       "      <th>4994</th>\n",
       "      <td>04.01.2001</td>\n",
       "      <td>16.675</td>\n",
       "      <td>16.597</td>\n",
       "      <td>16.933</td>\n",
       "      <td>16.587</td>\n",
       "      <td>331,23M</td>\n",
       "      <td>0,46%</td>\n",
       "    </tr>\n",
       "    <tr>\n",
       "      <th>4995</th>\n",
       "      <td>03.01.2001</td>\n",
       "      <td>16.599</td>\n",
       "      <td>15.425</td>\n",
       "      <td>16.599</td>\n",
       "      <td>15.251</td>\n",
       "      <td>381,20M</td>\n",
       "      <td>7,61%</td>\n",
       "    </tr>\n",
       "    <tr>\n",
       "      <th>4996</th>\n",
       "      <td>02.01.2001</td>\n",
       "      <td>15.425</td>\n",
       "      <td>15.242</td>\n",
       "      <td>15.621</td>\n",
       "      <td>15.174</td>\n",
       "      <td>230,63M</td>\n",
       "      <td>1,09%</td>\n",
       "    </tr>\n",
       "    <tr>\n",
       "      <th>4997</th>\n",
       "      <td>28.12.2000</td>\n",
       "      <td>15.259</td>\n",
       "      <td>15.188</td>\n",
       "      <td>15.269</td>\n",
       "      <td>15.132</td>\n",
       "      <td>324,26M</td>\n",
       "      <td>0,48%</td>\n",
       "    </tr>\n",
       "    <tr>\n",
       "      <th>4998</th>\n",
       "      <td>27.12.2000</td>\n",
       "      <td>15.186</td>\n",
       "      <td>14.805</td>\n",
       "      <td>15.223</td>\n",
       "      <td>14.805</td>\n",
       "      <td>239,98M</td>\n",
       "      <td>2,65%</td>\n",
       "    </tr>\n",
       "  </tbody>\n",
       "</table>\n",
       "<p>4999 rows × 7 columns</p>\n",
       "</div>"
      ],
      "text/plain": [
       "            Data   Último  Abertura   Máxima   Mínima     Vol.    Var%\n",
       "0     11.03.2021  114.984   112.782  115.127  112.776   12,09M   1,96%\n",
       "1     10.03.2021  112.776   111.331  112.928  109.999   12,51M   1,30%\n",
       "2     09.03.2021  111.331   110.611  112.525  109.343   12,14M   0,65%\n",
       "3     08.03.2021  110.612   115.202  115.202  110.268   13,70M  -3,98%\n",
       "4     05.03.2021  115.202   112.690  115.504  112.504   13,25M   2,23%\n",
       "...          ...      ...       ...      ...      ...      ...     ...\n",
       "4994  04.01.2001   16.675    16.597   16.933   16.587  331,23M   0,46%\n",
       "4995  03.01.2001   16.599    15.425   16.599   15.251  381,20M   7,61%\n",
       "4996  02.01.2001   15.425    15.242   15.621   15.174  230,63M   1,09%\n",
       "4997  28.12.2000   15.259    15.188   15.269   15.132  324,26M   0,48%\n",
       "4998  27.12.2000   15.186    14.805   15.223   14.805  239,98M   2,65%\n",
       "\n",
       "[4999 rows x 7 columns]"
      ]
     },
     "execution_count": 2,
     "metadata": {},
     "output_type": "execute_result"
    }
   ],
   "source": [
    "dados_path = './data/dados_ibovespa_2000-2023.csv'\n",
    "\n",
    "dados = pd.read_csv(dados_path)\n",
    "\n",
    "dados"
   ]
  },
  {
   "cell_type": "code",
   "execution_count": 3,
   "metadata": {},
   "outputs": [
    {
     "name": "stdout",
     "output_type": "stream",
     "text": [
      "<class 'pandas.core.frame.DataFrame'>\n",
      "RangeIndex: 4999 entries, 0 to 4998\n",
      "Data columns (total 7 columns):\n",
      " #   Column    Non-Null Count  Dtype  \n",
      "---  ------    --------------  -----  \n",
      " 0   Data      4999 non-null   object \n",
      " 1   Último    4999 non-null   float64\n",
      " 2   Abertura  4999 non-null   float64\n",
      " 3   Máxima    4999 non-null   float64\n",
      " 4   Mínima    4999 non-null   float64\n",
      " 5   Vol.      4998 non-null   object \n",
      " 6   Var%      4999 non-null   object \n",
      "dtypes: float64(4), object(3)\n",
      "memory usage: 273.5+ KB\n",
      "None\n"
     ]
    }
   ],
   "source": [
    "print(dados.info())"
   ]
  },
  {
   "cell_type": "code",
   "execution_count": 4,
   "metadata": {},
   "outputs": [
    {
     "name": "stdout",
     "output_type": "stream",
     "text": [
      "Data        0\n",
      "Último      0\n",
      "Abertura    0\n",
      "Máxima      0\n",
      "Mínima      0\n",
      "Vol.        1\n",
      "Var%        0\n",
      "dtype: int64\n"
     ]
    }
   ],
   "source": [
    "print(dados.isna().sum())"
   ]
  },
  {
   "cell_type": "markdown",
   "metadata": {},
   "source": [
    "Existem algumas inconsistências na base. Coluna de data está como tipo texto, variáveis numéricas em formato texto e existe um valor nulo na coluna \"Vol.\""
   ]
  },
  {
   "cell_type": "markdown",
   "metadata": {},
   "source": [
    "## Ajuste nos tipos de dados"
   ]
  },
  {
   "cell_type": "code",
   "execution_count": 11,
   "metadata": {},
   "outputs": [
    {
     "data": {
      "text/html": [
       "<div>\n",
       "<style scoped>\n",
       "    .dataframe tbody tr th:only-of-type {\n",
       "        vertical-align: middle;\n",
       "    }\n",
       "\n",
       "    .dataframe tbody tr th {\n",
       "        vertical-align: top;\n",
       "    }\n",
       "\n",
       "    .dataframe thead th {\n",
       "        text-align: right;\n",
       "    }\n",
       "</style>\n",
       "<table border=\"1\" class=\"dataframe\">\n",
       "  <thead>\n",
       "    <tr style=\"text-align: right;\">\n",
       "      <th></th>\n",
       "      <th>Data</th>\n",
       "      <th>Último</th>\n",
       "      <th>Abertura</th>\n",
       "      <th>Máxima</th>\n",
       "      <th>Mínima</th>\n",
       "      <th>Vol.</th>\n",
       "      <th>Var%</th>\n",
       "    </tr>\n",
       "  </thead>\n",
       "  <tbody>\n",
       "    <tr>\n",
       "      <th>0</th>\n",
       "      <td>2021-11-03</td>\n",
       "      <td>114.984</td>\n",
       "      <td>112.782</td>\n",
       "      <td>115.127</td>\n",
       "      <td>112.776</td>\n",
       "      <td>12,09M</td>\n",
       "      <td>1,96%</td>\n",
       "    </tr>\n",
       "    <tr>\n",
       "      <th>1</th>\n",
       "      <td>2021-10-03</td>\n",
       "      <td>112.776</td>\n",
       "      <td>111.331</td>\n",
       "      <td>112.928</td>\n",
       "      <td>109.999</td>\n",
       "      <td>12,51M</td>\n",
       "      <td>1,30%</td>\n",
       "    </tr>\n",
       "    <tr>\n",
       "      <th>2</th>\n",
       "      <td>2021-09-03</td>\n",
       "      <td>111.331</td>\n",
       "      <td>110.611</td>\n",
       "      <td>112.525</td>\n",
       "      <td>109.343</td>\n",
       "      <td>12,14M</td>\n",
       "      <td>0,65%</td>\n",
       "    </tr>\n",
       "    <tr>\n",
       "      <th>3</th>\n",
       "      <td>2021-08-03</td>\n",
       "      <td>110.612</td>\n",
       "      <td>115.202</td>\n",
       "      <td>115.202</td>\n",
       "      <td>110.268</td>\n",
       "      <td>13,70M</td>\n",
       "      <td>-3,98%</td>\n",
       "    </tr>\n",
       "    <tr>\n",
       "      <th>4</th>\n",
       "      <td>2021-05-03</td>\n",
       "      <td>115.202</td>\n",
       "      <td>112.690</td>\n",
       "      <td>115.504</td>\n",
       "      <td>112.504</td>\n",
       "      <td>13,25M</td>\n",
       "      <td>2,23%</td>\n",
       "    </tr>\n",
       "  </tbody>\n",
       "</table>\n",
       "</div>"
      ],
      "text/plain": [
       "        Data   Último  Abertura   Máxima   Mínima    Vol.    Var%\n",
       "0 2021-11-03  114.984   112.782  115.127  112.776  12,09M   1,96%\n",
       "1 2021-10-03  112.776   111.331  112.928  109.999  12,51M   1,30%\n",
       "2 2021-09-03  111.331   110.611  112.525  109.343  12,14M   0,65%\n",
       "3 2021-08-03  110.612   115.202  115.202  110.268  13,70M  -3,98%\n",
       "4 2021-05-03  115.202   112.690  115.504  112.504  13,25M   2,23%"
      ]
     },
     "execution_count": 11,
     "metadata": {},
     "output_type": "execute_result"
    }
   ],
   "source": [
    "# Coluna Data com tipo datetime\n",
    "dados = pd.read_csv(dados_path, parse_dates=[0])\n",
    "\n",
    "dados.head()"
   ]
  },
  {
   "cell_type": "code",
   "execution_count": 12,
   "metadata": {},
   "outputs": [],
   "source": [
    "dados['Vol.'] = dados['Vol.'].str[:-1]\n",
    "dados['Var%'] = dados['Var%'].str[:-1]\n",
    "\n",
    "dados['Vol.'] = dados['Vol.'].str.replace(',','.')\n",
    "dados['Var%'] = dados['Var%'].str.replace(',','.')\n",
    "\n",
    "dados['Vol.'] = dados['Vol.'].astype(float)\n",
    "dados['Var%'] = dados['Var%'].astype(float)"
   ]
  },
  {
   "cell_type": "code",
   "execution_count": 14,
   "metadata": {},
   "outputs": [
    {
     "name": "stdout",
     "output_type": "stream",
     "text": [
      "<class 'pandas.core.frame.DataFrame'>\n",
      "RangeIndex: 4999 entries, 0 to 4998\n",
      "Data columns (total 7 columns):\n",
      " #   Column    Non-Null Count  Dtype         \n",
      "---  ------    --------------  -----         \n",
      " 0   Data      4999 non-null   datetime64[ns]\n",
      " 1   Último    4999 non-null   float64       \n",
      " 2   Abertura  4999 non-null   float64       \n",
      " 3   Máxima    4999 non-null   float64       \n",
      " 4   Mínima    4999 non-null   float64       \n",
      " 5   Vol.      4998 non-null   float64       \n",
      " 6   Var%      4999 non-null   float64       \n",
      "dtypes: datetime64[ns](1), float64(6)\n",
      "memory usage: 273.5 KB\n",
      "None\n"
     ]
    }
   ],
   "source": [
    "print(dados.info())"
   ]
  },
  {
   "cell_type": "markdown",
   "metadata": {},
   "source": [
    "## Valores nulos"
   ]
  },
  {
   "cell_type": "code",
   "execution_count": 15,
   "metadata": {},
   "outputs": [
    {
     "data": {
      "text/html": [
       "<div>\n",
       "<style scoped>\n",
       "    .dataframe tbody tr th:only-of-type {\n",
       "        vertical-align: middle;\n",
       "    }\n",
       "\n",
       "    .dataframe tbody tr th {\n",
       "        vertical-align: top;\n",
       "    }\n",
       "\n",
       "    .dataframe thead th {\n",
       "        text-align: right;\n",
       "    }\n",
       "</style>\n",
       "<table border=\"1\" class=\"dataframe\">\n",
       "  <thead>\n",
       "    <tr style=\"text-align: right;\">\n",
       "      <th></th>\n",
       "      <th>Data</th>\n",
       "      <th>Último</th>\n",
       "      <th>Abertura</th>\n",
       "      <th>Máxima</th>\n",
       "      <th>Mínima</th>\n",
       "      <th>Vol.</th>\n",
       "      <th>Var%</th>\n",
       "    </tr>\n",
       "  </thead>\n",
       "  <tbody>\n",
       "    <tr>\n",
       "      <th>1258</th>\n",
       "      <td>2016-10-02</td>\n",
       "      <td>40.377</td>\n",
       "      <td>40.592</td>\n",
       "      <td>40.592</td>\n",
       "      <td>39.96</td>\n",
       "      <td>NaN</td>\n",
       "      <td>-0.53</td>\n",
       "    </tr>\n",
       "  </tbody>\n",
       "</table>\n",
       "</div>"
      ],
      "text/plain": [
       "           Data  Último  Abertura  Máxima  Mínima  Vol.  Var%\n",
       "1258 2016-10-02  40.377    40.592  40.592   39.96   NaN -0.53"
      ]
     },
     "execution_count": 15,
     "metadata": {},
     "output_type": "execute_result"
    }
   ],
   "source": [
    "dados.loc[dados['Vol.'].isna()]"
   ]
  },
  {
   "cell_type": "markdown",
   "metadata": {},
   "source": [
    "Por se tratar de apenas uma linha no dataframe, será adotada a técnica de exclusão da linha com valores nulos, pois não prejudicará a representação dos dados."
   ]
  },
  {
   "cell_type": "code",
   "execution_count": 16,
   "metadata": {},
   "outputs": [
    {
     "data": {
      "text/html": [
       "<div>\n",
       "<style scoped>\n",
       "    .dataframe tbody tr th:only-of-type {\n",
       "        vertical-align: middle;\n",
       "    }\n",
       "\n",
       "    .dataframe tbody tr th {\n",
       "        vertical-align: top;\n",
       "    }\n",
       "\n",
       "    .dataframe thead th {\n",
       "        text-align: right;\n",
       "    }\n",
       "</style>\n",
       "<table border=\"1\" class=\"dataframe\">\n",
       "  <thead>\n",
       "    <tr style=\"text-align: right;\">\n",
       "      <th></th>\n",
       "      <th>Data</th>\n",
       "      <th>Último</th>\n",
       "      <th>Abertura</th>\n",
       "      <th>Máxima</th>\n",
       "      <th>Mínima</th>\n",
       "      <th>Vol.</th>\n",
       "      <th>Var%</th>\n",
       "    </tr>\n",
       "  </thead>\n",
       "  <tbody>\n",
       "  </tbody>\n",
       "</table>\n",
       "</div>"
      ],
      "text/plain": [
       "Empty DataFrame\n",
       "Columns: [Data, Último, Abertura, Máxima, Mínima, Vol., Var%]\n",
       "Index: []"
      ]
     },
     "execution_count": 16,
     "metadata": {},
     "output_type": "execute_result"
    }
   ],
   "source": [
    "dados.dropna(inplace=True)\n",
    "\n",
    "dados.loc[dados['Vol.'].isna()]"
   ]
  },
  {
   "cell_type": "markdown",
   "metadata": {},
   "source": [
    "## Renomeando colunas"
   ]
  },
  {
   "cell_type": "markdown",
   "metadata": {},
   "source": [
    "Para facilitar as análises futuras e simplificar a nomenclatura das variáveis, os nomes das colunas também serão modificados"
   ]
  },
  {
   "cell_type": "code",
   "execution_count": 17,
   "metadata": {},
   "outputs": [
    {
     "name": "stdout",
     "output_type": "stream",
     "text": [
      "Index(['Data', 'Último', 'Abertura', 'Máxima', 'Mínima', 'Vol.', 'Var%'], dtype='object')\n"
     ]
    }
   ],
   "source": [
    "print(dados.columns)"
   ]
  },
  {
   "cell_type": "code",
   "execution_count": 18,
   "metadata": {},
   "outputs": [
    {
     "data": {
      "text/html": [
       "<div>\n",
       "<style scoped>\n",
       "    .dataframe tbody tr th:only-of-type {\n",
       "        vertical-align: middle;\n",
       "    }\n",
       "\n",
       "    .dataframe tbody tr th {\n",
       "        vertical-align: top;\n",
       "    }\n",
       "\n",
       "    .dataframe thead th {\n",
       "        text-align: right;\n",
       "    }\n",
       "</style>\n",
       "<table border=\"1\" class=\"dataframe\">\n",
       "  <thead>\n",
       "    <tr style=\"text-align: right;\">\n",
       "      <th></th>\n",
       "      <th>ds</th>\n",
       "      <th>y</th>\n",
       "      <th>abertura</th>\n",
       "      <th>max</th>\n",
       "      <th>min</th>\n",
       "      <th>volume</th>\n",
       "      <th>variacao</th>\n",
       "    </tr>\n",
       "  </thead>\n",
       "  <tbody>\n",
       "    <tr>\n",
       "      <th>0</th>\n",
       "      <td>2021-11-03</td>\n",
       "      <td>114.984</td>\n",
       "      <td>112.782</td>\n",
       "      <td>115.127</td>\n",
       "      <td>112.776</td>\n",
       "      <td>12.09</td>\n",
       "      <td>1.96</td>\n",
       "    </tr>\n",
       "    <tr>\n",
       "      <th>1</th>\n",
       "      <td>2021-10-03</td>\n",
       "      <td>112.776</td>\n",
       "      <td>111.331</td>\n",
       "      <td>112.928</td>\n",
       "      <td>109.999</td>\n",
       "      <td>12.51</td>\n",
       "      <td>1.30</td>\n",
       "    </tr>\n",
       "    <tr>\n",
       "      <th>2</th>\n",
       "      <td>2021-09-03</td>\n",
       "      <td>111.331</td>\n",
       "      <td>110.611</td>\n",
       "      <td>112.525</td>\n",
       "      <td>109.343</td>\n",
       "      <td>12.14</td>\n",
       "      <td>0.65</td>\n",
       "    </tr>\n",
       "    <tr>\n",
       "      <th>3</th>\n",
       "      <td>2021-08-03</td>\n",
       "      <td>110.612</td>\n",
       "      <td>115.202</td>\n",
       "      <td>115.202</td>\n",
       "      <td>110.268</td>\n",
       "      <td>13.70</td>\n",
       "      <td>-3.98</td>\n",
       "    </tr>\n",
       "    <tr>\n",
       "      <th>4</th>\n",
       "      <td>2021-05-03</td>\n",
       "      <td>115.202</td>\n",
       "      <td>112.690</td>\n",
       "      <td>115.504</td>\n",
       "      <td>112.504</td>\n",
       "      <td>13.25</td>\n",
       "      <td>2.23</td>\n",
       "    </tr>\n",
       "  </tbody>\n",
       "</table>\n",
       "</div>"
      ],
      "text/plain": [
       "          ds        y  abertura      max      min  volume  variacao\n",
       "0 2021-11-03  114.984   112.782  115.127  112.776   12.09      1.96\n",
       "1 2021-10-03  112.776   111.331  112.928  109.999   12.51      1.30\n",
       "2 2021-09-03  111.331   110.611  112.525  109.343   12.14      0.65\n",
       "3 2021-08-03  110.612   115.202  115.202  110.268   13.70     -3.98\n",
       "4 2021-05-03  115.202   112.690  115.504  112.504   13.25      2.23"
      ]
     },
     "execution_count": 18,
     "metadata": {},
     "output_type": "execute_result"
    }
   ],
   "source": [
    "dados.columns = ['ds', 'y', 'abertura', 'max', 'min', 'volume', 'variacao']\n",
    "\n",
    "dados.head()"
   ]
  },
  {
   "cell_type": "markdown",
   "metadata": {},
   "source": [
    "## Exportação da base processada"
   ]
  },
  {
   "cell_type": "code",
   "execution_count": 19,
   "metadata": {},
   "outputs": [],
   "source": [
    "dados.to_csv('./data/dados_ibovespa_2000-2023_processed.csv', index=False)"
   ]
  }
 ],
 "metadata": {
  "kernelspec": {
   "display_name": "gis",
   "language": "python",
   "name": "python3"
  },
  "language_info": {
   "codemirror_mode": {
    "name": "ipython",
    "version": 3
   },
   "file_extension": ".py",
   "mimetype": "text/x-python",
   "name": "python",
   "nbconvert_exporter": "python",
   "pygments_lexer": "ipython3",
   "version": "3.7.13"
  },
  "orig_nbformat": 4
 },
 "nbformat": 4,
 "nbformat_minor": 2
}
